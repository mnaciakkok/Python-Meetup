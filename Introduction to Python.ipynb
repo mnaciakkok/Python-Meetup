{
 "cells": [
  {
   "cell_type": "markdown",
   "metadata": {},
   "source": [
    "# Python 3 for \"us\" - the TechAngelists\n",
    "\n",
    "From Wikipedia (where would we be without): https://en.wikipedia.org/wiki/Python_(programming_language)\n",
    "\n",
    "Python is an interpreted high-level programming language for general-purpose programming. Created by Guido van Rossum and first released in 1991, Python has a design philosophy that emphasizes code readability, and a syntax that allows programmers to express concepts in fewer lines of code, notably using significant whitespace. It provides constructs that enable clear programming on both small and large scales.\n",
    "\n",
    "Python is a bit like Matlab or R. You will often hear that Python with NumPy/SciPy (numerical/scientific math libraries) and matplotlib (plotting library) is the equivalent of Matlab. Python is used a good deal in natural sciences (especially biology/bio-informatics), in data sciences (for statistics, AI and machine learning), and fun areas like designing intelligence in games or in designing game-playing AI software (soft-bots).    "
   ]
  },
  {
   "cell_type": "markdown",
   "metadata": {},
   "source": [
    "# Interpreted"
   ]
  },
  {
   "cell_type": "markdown",
   "metadata": {},
   "source": [
    "Interpreted: Interactive. Computes each line and answers immediately, not after a long and tedious compilation. Obviously not a politician.\n",
    "\n",
    "Select and run these (one by one):"
   ]
  },
  {
   "cell_type": "code",
   "execution_count": null,
   "metadata": {
    "collapsed": true
   },
   "outputs": [],
   "source": [
    "print(\"I too can say Hello World :-)\")"
   ]
  },
  {
   "cell_type": "code",
   "execution_count": null,
   "metadata": {
    "collapsed": true
   },
   "outputs": [],
   "source": [
    "2 + 3"
   ]
  },
  {
   "cell_type": "markdown",
   "metadata": {},
   "source": [
    "# But it can also run a whole program - scripted or compiled\n",
    "\n",
    "You can create a script file with python commands and run the file instead. That would be your program.\n",
    "Create a file called \"the_holy_greeting.py\" and write the pring statement above into it. Then start up a terminal in Mac OSX, Unix or Linux or a CMD terminal in MS Windows and run the script with the python command:\n",
    "\n",
    "$> python greeting.py\n",
    "\n",
    "This will still run in interpreted mode, but will run all the commands in the file. If for some reason you need to compile the script, then there is the py_compile module. You can do it in one of two ways:\n",
    "\n",
    "If you are running the python interpreter in the terminal:"
   ]
  },
  {
   "cell_type": "code",
   "execution_count": null,
   "metadata": {
    "collapsed": true
   },
   "outputs": [],
   "source": [
    "$ python\n",
    "Python 2.7.14 |Anaconda, Inc.| (default, Oct  5 2017, 02:28:52) \n",
    "[GCC 4.2.1 Compatible Clang 4.0.1 (tags/RELEASE_401/final)] on darwin\n",
    "Type \"help\", \"copyright\", \"credits\" or \"license\" for more information.\n",
    ">>>"
   ]
  },
  {
   "cell_type": "markdown",
   "metadata": {},
   "source": [
    "then:"
   ]
  },
  {
   "cell_type": "code",
   "execution_count": null,
   "metadata": {
    "collapsed": true
   },
   "outputs": [],
   "source": [
    ">>> import py_compile\n",
    ">>> py_compile.compile('the_holy_greeting.py')\n",
    ">>> "
   ]
  },
  {
   "cell_type": "markdown",
   "metadata": {},
   "source": [
    "or just do this at the shell prompt:"
   ]
  },
  {
   "cell_type": "code",
   "execution_count": null,
   "metadata": {
    "collapsed": true
   },
   "outputs": [],
   "source": [
    "$ python -m py_compile the_holy_greeting.py"
   ]
  },
  {
   "cell_type": "markdown",
   "metadata": {},
   "source": [
    "You will get a subdirectory __pycache__ and a file with the same name and the .pyc extension in there. Th .pyc file is the compiled version of the file in byte code on the Python Virtual Machine (PVM). \n",
    "\n",
    "Digression. Forget it until later."
   ]
  },
  {
   "cell_type": "markdown",
   "metadata": {},
   "source": [
    "# Indentation is king in Python\n",
    "\n",
    "You remember \"begin ... end\" or \"{ ... }\" or \"do ... done\" kind of block structuring? Well, that happens using indentation in Python. Look at the following program (and try it out if you want to). The first three lines are at the same level. Then there is an outer for-loop block with an inner for-loop block, and an if-block inside the second for-loop block, all marked by nothing more than indentation: "
   ]
  },
  {
   "cell_type": "code",
   "execution_count": null,
   "metadata": {
    "collapsed": true
   },
   "outputs": [],
   "source": [
    "from math import sqrt\n",
    "n = input(\"Maximum Number? \")\n",
    "n = int(n)+1\n",
    "for a in range(1,n):\n",
    "    for b in range(a,n):\n",
    "        c_square = a**2 + b**2\n",
    "        c = int(sqrt(c_square))\n",
    "        if ((c_square - c**2) == 0):\n",
    "            print(a, b, c)"
   ]
  },
  {
   "cell_type": "markdown",
   "metadata": {},
   "source": [
    "# Variables/identifiers, data types, declarations and identity"
   ]
  },
  {
   "cell_type": "markdown",
   "metadata": {},
   "source": [
    "## Variables/identifiers:  "
   ]
  },
  {
   "cell_type": "markdown",
   "metadata": {},
   "source": [
    "Yes, of course. There are variables and identifiers. The rules are like in many other languages: Letters, numbers, and underscore (except at the beginning). No Python keywords. NOTE that Python 3.x uses UNICODE, Which means that funny characters like \"æ\", \"ø\", \"å\" are completely valid! "
   ]
  },
  {
   "cell_type": "code",
   "execution_count": null,
   "metadata": {
    "collapsed": true
   },
   "outputs": [],
   "source": [
    "# An integer\n",
    "x = 42\n",
    "\n",
    "# A float\n",
    "y = 42.1\n",
    "\n",
    "# A string in a variable with funny (Norwegian) characters\n",
    "bæ_bæ = \"lille lam\"\n",
    "\n",
    "print(x, y, bæ_bæ)\n"
   ]
  },
  {
   "cell_type": "markdown",
   "metadata": {},
   "source": [
    "## Declarations, types: "
   ]
  },
  {
   "cell_type": "markdown",
   "metadata": {},
   "source": [
    "Python has all the usual data types, but there are no java like declarations. Declarations are implicit. BUT understand the type rules like the following:\n",
    "\n",
    "A float times and integer will give you a float. A float used as an integer (or converted to integer) will truncate the decimals. A string used as an integer will only give you trouble 🙃 \n",
    "\n",
    "That is why the previoues example converts the console input (default string) to int first. "
   ]
  },
  {
   "cell_type": "code",
   "execution_count": null,
   "metadata": {
    "collapsed": true
   },
   "outputs": [],
   "source": [
    "n = input(\"Maximum Number? \")\n",
    "n = int(n)+1"
   ]
  },
  {
   "cell_type": "markdown",
   "metadata": {},
   "source": [
    "Try this for if you want to see what would have happened without the explicit conversion to int:"
   ]
  },
  {
   "cell_type": "code",
   "execution_count": null,
   "metadata": {
    "collapsed": true
   },
   "outputs": [],
   "source": [
    "n = input(\"Give me a number: \")\n",
    "print(n)\n",
    "\n",
    "x = n + 1"
   ]
  },
  {
   "cell_type": "markdown",
   "metadata": {},
   "source": [
    "Don´t be depressed if it gives you an ugly error message. It will, but for your benefit, trying to say that the value you read in is a character and not an integer 😎\n",
    "\n",
    "This is the traceback you will get (most recent call last):\n",
    "\n",
    "    File \"<ipython-input-1-badc95ac2d0c>\", line 5, in <module>\n",
    "    x = n + 1\n",
    "    \n",
    "    TypeError: must be str, not int\n",
    "\n",
    "HOMEWORK: Is Python strong typed or not?"
   ]
  },
  {
   "cell_type": "markdown",
   "metadata": {},
   "source": [
    "## Identity:"
   ]
  },
  {
   "cell_type": "markdown",
   "metadata": {
    "collapsed": true
   },
   "source": [
    "The actual identity of the variable or identifier, a number unique within the program, and independent of the variable name. So, var_this and var_that can actually be the same (i.e., referencing the same object) though they have different names.\n",
    "\n",
    "By the way, there is something called the \"identity function\" in python: "
   ]
  },
  {
   "cell_type": "code",
   "execution_count": null,
   "metadata": {
    "collapsed": true
   },
   "outputs": [],
   "source": [
    "x = 42\n",
    "y = \"The answer to...\"\n",
    "\n",
    "x_id = id(x)\n",
    "y_id = id(y)\n",
    "\n",
    "y = x\n",
    "\n",
    "print(x_id, y_id)\n",
    "id(x), id(y)"
   ]
  },
  {
   "cell_type": "markdown",
   "metadata": {},
   "source": [
    "HOMEWORK: What does \"by value\" and \"by refrence or \"by name\" mean in General? What do you think will be the Python case when we come so far (passing parameters to functions)? It is indicative already :-)  "
   ]
  },
  {
   "cell_type": "markdown",
   "metadata": {},
   "source": [
    "## Numbers "
   ]
  },
  {
   "cell_type": "markdown",
   "metadata": {},
   "source": [
    "You have all kinds of numbers in Python. Integer, float, binary, octal, hex and complex. We write 0xFF for hex, 0b1 for binary, 0b77 for octal etc.\n",
    "\n",
    "Complex i easy: x = 3 - 4j is a complex number.\n",
    "\n",
    "The integers of Python 3 are by default long. Unlimited in length, as a matter of fact.\n",
    "\n",
    "Note that you neede the \"L\" suffix after the number in Python 2.x. That will give an error in Python 3.\n",
    "\n",
    "You also have pretty good matrix/vector arithmetic in Python."
   ]
  },
  {
   "cell_type": "code",
   "execution_count": null,
   "metadata": {
    "collapsed": true
   },
   "outputs": [],
   "source": [
    "x = 0xFF\n",
    "tof_x = type(x)\n",
    "print(x, tof_x)"
   ]
  },
  {
   "cell_type": "markdown",
   "metadata": {},
   "source": [
    "This is interesting to note:"
   ]
  },
  {
   "cell_type": "code",
   "execution_count": null,
   "metadata": {
    "collapsed": true
   },
   "outputs": [],
   "source": [
    "y = hex(11)\n",
    "type(y)"
   ]
  },
  {
   "cell_type": "markdown",
   "metadata": {},
   "source": [
    "# Sequences (lists and arrays and such)"
   ]
  },
  {
   "cell_type": "markdown",
   "metadata": {},
   "source": [
    "Strings, lists and tuples are ordered sequences in Python. They can (also) be accessed through indices like arrays. "
   ]
  },
  {
   "cell_type": "code",
   "execution_count": null,
   "metadata": {
    "collapsed": true
   },
   "outputs": [],
   "source": [
    "Some_text = \"The long and ssslithery Python\"\n",
    "print(Some_text[13], Some_text[14], Some_text[15])"
   ]
  },
  {
   "cell_type": "markdown",
   "metadata": {},
   "source": [
    "Lists can be empty, simple, mixed or nested (list in a list)"
   ]
  },
  {
   "cell_type": "code",
   "execution_count": null,
   "metadata": {
    "collapsed": true
   },
   "outputs": [],
   "source": [
    "empty_list = []\n",
    "simple_list_of_int = [1, 3, 5, 7, 9]\n",
    "simple_list_of_str = [\"Oslo\", \"Bergen\", \"Trondheim\", \"Stavanger\", \"Kristiansand\", \"Tromsø\"]\n",
    "mixed_list = [42, \"the answer\", 3.1415]"
   ]
  },
  {
   "cell_type": "markdown",
   "metadata": {},
   "source": [
    "Lists can be nested with no depth limits, except that it may notbe easy for the human if the list is too deeply nested :-) \n",
    "\n",
    "Select and execute the two first and then the last line: "
   ]
  },
  {
   "cell_type": "code",
   "execution_count": null,
   "metadata": {
    "collapsed": true
   },
   "outputs": [],
   "source": [
    "nested_list = [[\"me\", \"innocent\"], [\"you\", \"innocent\"], [\"#MeToo\", \"NotInnocent\"]]\n",
    "nested_list[2][0], nested_list[2][1]\n",
    "nested_list[2]"
   ]
  },
  {
   "cell_type": "markdown",
   "metadata": {},
   "source": [
    "And than there are the tuples. They are immutable (can not be reassigned a new value).  "
   ]
  },
  {
   "cell_type": "code",
   "execution_count": null,
   "metadata": {
    "collapsed": true
   },
   "outputs": [],
   "source": [
    "tuple_not_toupée = (\"hair\", \"toupée\")\n",
    "tuple_not_toupée[0]\n"
   ]
  },
  {
   "cell_type": "markdown",
   "metadata": {},
   "source": [
    "And this won´t work:"
   ]
  },
  {
   "cell_type": "code",
   "execution_count": null,
   "metadata": {
    "collapsed": true
   },
   "outputs": [],
   "source": [
    "tuple_not_toupée[0] = \"actually bald\""
   ]
  },
  {
   "cell_type": "markdown",
   "metadata": {},
   "source": [
    "You can do \"slicing\" to refer to parts of a sequence liek a string. Note that negative numbers mean \"except...\". Note also that checking the lenght using len() first will save you some trouble.\n",
    "\n",
    "And you can add a third parameter - the step - saying for example every second element  "
   ]
  },
  {
   "cell_type": "code",
   "execution_count": 11,
   "metadata": {},
   "outputs": [
    {
     "data": {
      "text/plain": [
       "'Pto stebs!'"
      ]
     },
     "execution_count": 11,
     "metadata": {},
     "output_type": "execute_result"
    }
   ],
   "source": [
    "Some_string = \"Python is the best!\"\n",
    "Some_string[14:19]\n",
    "\n",
    "Some_string[:-6]\n",
    "Some_string[::2]"
   ]
  },
  {
   "cell_type": "markdown",
   "metadata": {},
   "source": [
    "You can add the strings, and the += operation works as well.\n",
    "You can actually repeat strings and sequences using the multiplication operator."
   ]
  },
  {
   "cell_type": "code",
   "execution_count": 13,
   "metadata": {},
   "outputs": [
    {
     "data": {
      "text/plain": [
       "'BeeP BeeP BeeP '"
      ]
     },
     "execution_count": 13,
     "metadata": {},
     "output_type": "execute_result"
    }
   ],
   "source": [
    "a_str = \"BeeP \"\n",
    "a_str * 3\n"
   ]
  },
  {
   "cell_type": "markdown",
   "metadata": {},
   "source": [
    "You can check whether an element is in a list/sequence or not. And that is important because we´ll use that in for-loops and such."
   ]
  },
  {
   "cell_type": "code",
   "execution_count": 17,
   "metadata": {},
   "outputs": [
    {
     "data": {
      "text/plain": [
       "True"
      ]
     },
     "execution_count": 17,
     "metadata": {},
     "output_type": "execute_result"
    }
   ],
   "source": [
    "evaluation = [\"A\", \"B\", \"C\", \"D\", \"E\", \"F\"]\n",
    "\"A\" in evaluation"
   ]
  },
  {
   "cell_type": "code",
   "execution_count": 16,
   "metadata": {},
   "outputs": [
    {
     "data": {
      "text/plain": [
       "False"
      ]
     },
     "execution_count": 16,
     "metadata": {},
     "output_type": "execute_result"
    }
   ],
   "source": [
    "\"S\" in evaluation"
   ]
  },
  {
   "cell_type": "markdown",
   "metadata": {},
   "source": [
    "And you have many other nice structures likes sets. Just use the set() built in function, and then add() to the declared set if you want, for example. You are clever and you will surely understand that this reminds you of methods of an object. "
   ]
  },
  {
   "cell_type": "code",
   "execution_count": 18,
   "metadata": {},
   "outputs": [
    {
     "data": {
      "text/plain": [
       "{'Bergen',\n",
       " 'Kautokeino',\n",
       " 'Kristiansand',\n",
       " 'Oslo',\n",
       " 'Stavanger',\n",
       " 'Tromsø',\n",
       " 'Trondheim'}"
      ]
     },
     "execution_count": 18,
     "metadata": {},
     "output_type": "execute_result"
    }
   ],
   "source": [
    "cities = set((\"Oslo\", \"Bergen\", \"Trondheim\", \"Stavanger\", \"Kristiansand\", \"Tromsø\"))\n",
    "cities.add(\"Kautokeino\")\n",
    "cities"
   ]
  },
  {
   "cell_type": "code",
   "execution_count": null,
   "metadata": {
    "collapsed": true
   },
   "outputs": [],
   "source": [
    "cities.add(\"oslo\")\n",
    "cities"
   ]
  },
  {
   "cell_type": "markdown",
   "metadata": {},
   "source": [
    "Yes. Sets do not have repeating elements :-)"
   ]
  },
  {
   "cell_type": "markdown",
   "metadata": {},
   "source": [
    "# Control Structures"
   ]
  },
  {
   "cell_type": "markdown",
   "metadata": {},
   "source": [
    "The usual suspects are here too. If and if/else, for, while etc. Some obvious examples:"
   ]
  },
  {
   "cell_type": "code",
   "execution_count": 19,
   "metadata": {},
   "outputs": [
    {
     "name": "stdout",
     "output_type": "stream",
     "text": [
      "Nationality? swiss\n",
      "You count\n"
     ]
    }
   ],
   "source": [
    "person = input(\"Nationality? \")\n",
    "if person == \"french\" or person == \"French\" :\n",
    "    print(\"You cook\")\n",
    "if person == \"swiss\" or person == \"Swiss\":\n",
    "    print(\"You count\")\n",
    "if person == \"norwegian\" or person == \"Norwegian\" or person == \"norsk\":\n",
    "    print(\"You rule!\")"
   ]
  },
  {
   "cell_type": "code",
   "execution_count": 20,
   "metadata": {},
   "outputs": [
    {
     "name": "stdout",
     "output_type": "stream",
     "text": [
      "Nationality? Norsk\n",
      "You rule!\n"
     ]
    }
   ],
   "source": [
    "person = input(\"Nationality? \")\n",
    "if person == \"norwegian\" or person == \"Norwegian\" or person == \"norsk\" or person == \"Norsk\":\n",
    "    print(\"You rule!\")\n",
    "elif person == \"french\":\n",
    "    print(\"You cook\")\n",
    "else:\n",
    "    print(\"Next time!\")"
   ]
  },
  {
   "cell_type": "markdown",
   "metadata": {},
   "source": [
    "The ternary if of C and C++ and Java exists as well, but in a more readable form. The C version is: \n",
    "    max = (a > b) ? a : b; \n",
    "\n",
    "and the Python version of is  \n",
    "    max = a if (a > b) else b\n",
    "\n",
    "which also can be used as part of an expression. Check this out: "
   ]
  },
  {
   "cell_type": "code",
   "execution_count": null,
   "metadata": {
    "collapsed": true
   },
   "outputs": [],
   "source": [
    "a = 15\n",
    "b = 17\n",
    "max = (a if (a > b) else b) * 2.45 - 4\n",
    "print(max)"
   ]
  },
  {
   "cell_type": "markdown",
   "metadata": {},
   "source": [
    "Here´s a simple while loop (with a few new elements introduced in print): "
   ]
  },
  {
   "cell_type": "code",
   "execution_count": null,
   "metadata": {
    "collapsed": true
   },
   "outputs": [],
   "source": [
    "n = int(input(\"Please input an integer: \"))\n",
    "s = 0\n",
    "counter = 1\n",
    "while counter <= n:\n",
    "    s = s + counter\n",
    "    counter += 1\n",
    "\n",
    "print(\"Sum of 1 until %d: %d\" % (n,s))"
   ]
  },
  {
   "cell_type": "markdown",
   "metadata": {},
   "source": [
    "How would you read character-by-character from standard input (typically the keyboard)? Note that we are importing a module and we are using \"break\" to break out of the loop (do this ONLY in the terminal or you´ll hang and slang):"
   ]
  },
  {
   "cell_type": "code",
   "execution_count": null,
   "metadata": {
    "collapsed": true
   },
   "outputs": [],
   "source": [
    "import sys \n",
    "\n",
    "text = \"\"\n",
    "while 1:\n",
    "   c = sys.stdin.read(1)\n",
    "   text = text + c\n",
    "   if c == '\\n':\n",
    "       break\n",
    "\n",
    "print(\"Input: %s\" % text)"
   ]
  },
  {
   "cell_type": "markdown",
   "metadata": {},
   "source": [
    "Python´s while loop allows for an else-part:\n",
    "\n",
    "while condition:\n",
    "\tstatement_1\n",
    "\t...\n",
    "\tstatement_n\n",
    "else:\n",
    "\tstatement_1\n",
    "\t...\n",
    "\tstatement_n\n",
    "\n",
    "Here is an example with some additional language facilities like the \"random\" module. As you are starting to understand, learning Python is not only learning the language structure, but learning to use the very rich set of Python libraries. \n",
    "\n",
    "Note: Copy and run these types of programs preferably in the Spyder code editor window (not the iPython Console or here). "
   ]
  },
  {
   "cell_type": "code",
   "execution_count": null,
   "metadata": {
    "collapsed": true
   },
   "outputs": [],
   "source": [
    "import random\n",
    "n = 20\n",
    "to_be_guessed = int(n * random.random()) + 1\n",
    "guess = 0\n",
    "while guess != to_be_guessed:\n",
    "    guess = int(input(\"New number: \"))\n",
    "    if guess > 0:\n",
    "        if guess > to_be_guessed:\n",
    "            print(\"Number too large\")\n",
    "        elif guess < to_be_guessed:\n",
    "            print(\"Number too small\")\n",
    "    else:\n",
    "        print(\"Sorry that you're giving up!\")\n",
    "        break\n",
    "else:\n",
    "    print(\"Congratulation. You made it!\")"
   ]
  },
  {
   "cell_type": "markdown",
   "metadata": {},
   "source": [
    "The C, C++, Java kind of for loop does not exist in Python. I mean this one:\n",
    "    for (i=0; i <= n; i++)\n",
    "\n",
    "The syntax is in the form of iteration in a sequence. Like this:\n",
    "\n",
    "    for <variable> in <sequence>:\n",
    "        <statements>\n",
    "    else:\n",
    "        <statements>\n",
    "\n",
    "Run the following in Spyder. "
   ]
  },
  {
   "cell_type": "code",
   "execution_count": null,
   "metadata": {
    "collapsed": true
   },
   "outputs": [],
   "source": [
    "cities = set((\"Oslo\", \"Bergen\", \"Trondheim\", \"Stavanger\", \"Kristiansand\", \"Tromsø\"))\n",
    "for c in cities:\n",
    "    print(c)"
   ]
  },
  {
   "cell_type": "markdown",
   "metadata": {},
   "source": [
    "The above example is a set. It could have been a list with [], which is more common in for-loops. \n",
    "\n",
    "Interesting note: The sequence in which the cities are printed is not the same as it is in the statement. Try the same after you turn cities into a list. The sequence will be the same.\n",
    "\n",
    "Python has a range function often used with for-loops:\n",
    "\n",
    "    range(begin, end, step)\n",
    "\n",
    "or simply\n",
    "\n",
    "    range(begin, end)\n",
    "\n",
    "With only two parameters, the step is then = 1 by default.\n",
    "Steps can be negative.\n",
    "\n",
    "Let´s print the Pythagorean numbers less than a mximum.\n",
    "Note also how the \"import\" clause is used: You don´t have to import everything in a library.\n"
   ]
  },
  {
   "cell_type": "code",
   "execution_count": null,
   "metadata": {
    "collapsed": true
   },
   "outputs": [],
   "source": [
    "from math import sqrt\n",
    "n = int(input(\"Maximal Number? \"))\n",
    "for a in range(1,n+1):\n",
    "    for b in range(a,n):\n",
    "        c_square = a**2 + b**2\n",
    "        c = int(sqrt(c_square))\n",
    "        if ((c_square - c**2) == 0):\n",
    "            print(a, b, c)"
   ]
  },
  {
   "cell_type": "markdown",
   "metadata": {},
   "source": [
    "# Functions"
   ]
  },
  {
   "cell_type": "markdown",
   "metadata": {},
   "source": [
    "Most of the stuff like range(), print(), input() etc. that we have been using were functions of sorts, really. We can create user-defined functions in Python. as well. A function is defined by a \"def\" statement. The syntax is:\n",
    "\n",
    "    def function-name(Parameter list):\n",
    "        statements\n",
    "\n",
    "When the function ends, it either returns a value (must be done explicitly using a return statement), or returns the value \"None\". One can of course return multiple values from within the body (in different returns wrapped in conditionals).\n",
    "\n",
    "Here is an example of the definition and call of a function."
   ]
  },
  {
   "cell_type": "code",
   "execution_count": null,
   "metadata": {
    "collapsed": true
   },
   "outputs": [],
   "source": [
    "def fahrenheit(T_in_celsius):\n",
    "    \"\"\" Returns the temperature in degrees Fahrenheit \"\"\"\n",
    "    return (T_in_celsius * 9 / 5) + 32\n",
    "\n",
    "for t in range(20, 41, 2):\n",
    "    print(t, \": \", fahrenheit(t))"
   ]
  },
  {
   "cell_type": "markdown",
   "metadata": {},
   "source": [
    "Functions have regular parameters (positional arguments) as well as keyword parameters."
   ]
  },
  {
   "cell_type": "code",
   "execution_count": null,
   "metadata": {
    "collapsed": true
   },
   "outputs": [],
   "source": [
    "def sums(a, b, c=0, d=0):\n",
    "    \"\"\" Sum with two keyword parameters \"\"\"\n",
    "    return a - b + c - d\n",
    "\n",
    "print(sums(12,4))\n",
    "print(sums(42,15,d=10))"
   ]
  },
  {
   "cell_type": "markdown",
   "metadata": {},
   "source": [
    "Functions can also have an arbitrary number of parameters!"
   ]
  },
  {
   "cell_type": "code",
   "execution_count": null,
   "metadata": {
    "collapsed": true
   },
   "outputs": [],
   "source": [
    "def arithmetic_mean(first, *values):\n",
    "    \"\"\" This function calculates the arithmetic mean of a non-empty\n",
    "        arbitrary number of numerical values \"\"\"\n",
    "\n",
    "    return (first + sum(values)) / (1 + len(values))\n",
    "\n",
    "print(arithmetic_mean(45,32,89,78))\n",
    "print(arithmetic_mean(8989.8,78787.78,3453,78778.73))\n",
    "print(arithmetic_mean(45,32))\n",
    "print(arithmetic_mean(45))"
   ]
  },
  {
   "cell_type": "markdown",
   "metadata": {},
   "source": [
    "But you cannot use this for a list. You need another mechanism that \"singularizes\" the list. Easy. Put an * in front of the name of the list and pass it as a parameter."
   ]
  },
  {
   "cell_type": "code",
   "execution_count": null,
   "metadata": {
    "collapsed": true
   },
   "outputs": [],
   "source": [
    "x = [3, 5, 7, 9]\n",
    "print(arithmetic_mean(*x))"
   ]
  },
  {
   "cell_type": "markdown",
   "metadata": {},
   "source": [
    "And you can actually pass an arbitrary number of keywords to a function. You use double-asterix. And you can do recursion. And more. Look it up :-)\n",
    "\n",
    "NOTE: \n",
    "The first statement in a function is usually a \"docstring\", which is a comment documenting what the function does.\n",
    "\n",
    "You will realize eventually that everything in Python is an object (as in object-oriented programming) with attributes and methods. This is valid for functions as well. So you can access the dcstring of a function using the __doc__ attribute of the function. \n",
    "\n",
    "The syntax is function_name.__doc__ as expected :-)"
   ]
  },
  {
   "cell_type": "code",
   "execution_count": null,
   "metadata": {
    "collapsed": true
   },
   "outputs": [],
   "source": [
    "def Hello(name=\"everybody\"):\n",
    "    \"\"\" Never forget your hello-world! \"\"\"\n",
    "    print(\"Hello \" + name + \"!\")\n",
    "\n",
    "print(\"The docstring of the function Hello: \" + Hello.__doc__)"
   ]
  },
  {
   "cell_type": "markdown",
   "metadata": {},
   "source": [
    "Python also has functions that are dear to many Lisp and Scheme fans and mathematicians. Like lambda, filter(), map() and reduce(). Reduce is actually in functools. \n",
    "\n",
    "The creator of Python, Guid van Rossum never really wanted them in, but lost the fight to Schemeing party. \n",
    "\n",
    "He didn´t want them in because Python is created for simplicity and \"should offer only one obvious way of doing things\". He already had List Comprehension. The notation is taken from the mathematical set/domain generation notation like \"the set of all squares of natural numbers\" shown here: { x2 | x ∈ ℕ }.\n",
    "\n",
    "Here is an example."
   ]
  },
  {
   "cell_type": "code",
   "execution_count": null,
   "metadata": {
    "collapsed": true
   },
   "outputs": [],
   "source": [
    "Celsius = [39.2, 36.5, 37.3, 37.8]\n",
    "Fahrenheit = [ ((float(9)/5)*x + 32) for x in Celsius ]\n",
    "print(Fahrenheit)"
   ]
  },
  {
   "cell_type": "markdown",
   "metadata": {},
   "source": [
    "Function names in Python are references to functions. That makes several things possible:\n",
    "    You can have several \"names\" pointing to the same function,\n",
    "    You can pass functions as parameters to other functions :-) "
   ]
  },
  {
   "cell_type": "code",
   "execution_count": null,
   "metadata": {
    "collapsed": true
   },
   "outputs": [],
   "source": [
    "def succ(x):\n",
    "    return x + 1\n",
    "\n",
    "successor = succ\n",
    "\n",
    "# These will both call the same function \n",
    "\n",
    "successor(10)\n",
    "succ(10)"
   ]
  },
  {
   "cell_type": "markdown",
   "metadata": {},
   "source": [
    "And then you can actually delete either one of them without deleting the function! The deletion below will leave the function - as if it was defined with the name \"successor\"."
   ]
  },
  {
   "cell_type": "code",
   "execution_count": null,
   "metadata": {
    "collapsed": true
   },
   "outputs": [],
   "source": [
    "del succ"
   ]
  },
  {
   "cell_type": "markdown",
   "metadata": {},
   "source": [
    "You can pass functions as parameters to other functions. And you can actually check exactly which function is being called."
   ]
  },
  {
   "cell_type": "code",
   "execution_count": null,
   "metadata": {
    "collapsed": true
   },
   "outputs": [],
   "source": [
    "def g():\n",
    "    print(\"Hi, it's me 'Gee'\")\n",
    "    print(\"Thanks for calling me :-)\")\n",
    "    \n",
    "def f(func):\n",
    "    print(\"Hi, it's me 'Fee'\")\n",
    "    print(\"I will call 'func' now, whoever that is...\")\n",
    "    func()\n",
    "    print(\"INFO: func's real name is \" + func.__name__) \n",
    "          \n",
    "f(g)"
   ]
  },
  {
   "cell_type": "markdown",
   "metadata": {},
   "source": [
    "And if you can pass functions as parameters to functions, why shouldn´t you be able to return functions from functions? Note: That was a rhetorical question, You don´t have to anser that."
   ]
  },
  {
   "cell_type": "code",
   "execution_count": null,
   "metadata": {
    "collapsed": true
   },
   "outputs": [],
   "source": [
    "def f(x):\n",
    "    def g(y):\n",
    "        return y + x + 3 \n",
    "    return g\n",
    "\n",
    "nf1 = f(1)\n",
    "nf2 = f(3)\n",
    "\n",
    "print(nf1(1))\n",
    "print(nf2(1))"
   ]
  },
  {
   "cell_type": "markdown",
   "metadata": {},
   "source": [
    "OK. We´re almost done with functions, but we´ll try one more example. It is a special one, because it is the reason I started learning Python :-)\n",
    "\n",
    "My daughter Ada (no, nothing to do with the programming language) enrolled into a Bachelor´s program called \"Mathematics and Informatics for Natural Sciences\" at the university of Oslo. And what happened next? Dad was kindly asked to help solving ordinary differential equations (ODEs) using Python. Starting with the Forward Euler´s method. \n",
    "\n",
    "In the Forward Euler (or Euler's) method, the idea is simple: Given an intial condition and data-points, you can calculate the start slope, and then move along it, and re-calculate the slope after a delta-T and then move on that slope and son on...\n",
    "\n",
    "<!-- dom:FIGURE: [https://raw.githubusercontent.com/hplgit/scipro-primer/master/slides/ode2/html/fig-ode2/FE_comic_2.png, width=600 frac=0.8] -->\n",
    "<!-- begin figure -->\n",
    "\n",
    "<p></p>\n",
    "<img src=\"https://raw.githubusercontent.com/hplgit/scipro-primer/master/slides/ode2/html/fig-ode2/FE_comic_2.png\" width=600>\n",
    "\n",
    "<!-- end figure -->\n",
    "\n",
    "Here´s a simple version of the code that made me start liking Python. It is a Forward-Euler ODE solution that would result in an exponential function (both ODE and actual exponentExplore them a bit.\n",
    "\n",
    "Here´s a matplotlib tutorial: https://matplotlib.org/users/pyplot_tutorial.html\n",
    "\n",
    "Python agrees with mathematicians, statisticians, data-scientists and AI/ML people :-) "
   ]
  },
  {
   "cell_type": "code",
   "execution_count": null,
   "metadata": {
    "collapsed": true
   },
   "outputs": [],
   "source": [
    "from numpy import exp\n",
    "import matplotlib.pyplot as plt\n",
    "\n",
    "def ForwardEuler(f, U0, T, n):\n",
    "    \"\"\"Solve u'=f(u,t), u(0)=U0, with n steps until t=T.\"\"\"\n",
    "    import numpy as np\n",
    "    t = np.zeros(n+1)\n",
    "    u = np.zeros(n+1)  # u[k] is the solution at time t[k]\n",
    "\n",
    "    u[0] = U0\n",
    "    t[0] = 0\n",
    "    dt = T/float(n)\n",
    "\n",
    "    for k in range(n):\n",
    "        t[k+1] = t[k] + dt\n",
    "        u[k+1] = u[k] + dt*f(u[k], t[k])\n",
    "\n",
    "    return u, t\n",
    "\n",
    "def f(u, t):\n",
    "    return u\n",
    "\n",
    "U0 = 1\n",
    "T = 3\n",
    "n = 30\n",
    "\n",
    "u, t = ForwardEuler(f, U0, T, n)\n",
    "u_exact = exp(t)\n",
    "\n",
    "plt.plot(t, u, \"r--\", t, u_exact, \"bs\")\n",
    "plt.xlabel(\"Time\")\n",
    "plt.ylabel(\"Best fit\")\n",
    "plt.show()\n",
    "\n",
    "# You can plot several: red dashes, blue squares and green triangles\n",
    "# plt.plot(t, t, 'r--', t, t**2, 'bs', t, t**3, 'g^')\n"
   ]
  },
  {
   "cell_type": "markdown",
   "metadata": {},
   "source": [
    "# Exception"
   ]
  },
  {
   "cell_type": "markdown",
   "metadata": {},
   "source": [
    "Exception handling in Python is very similar to Java. When you want to ensure proper behaviour for part of the code, you embed it in a try-block. Than you catch exceptions with an except-clause (which would have been a catch-clause in Java). And you of course have the means to force an exception using the raise-clause.\n",
    "\n",
    "Python has a finally-clause which is usually used at the end of all except-clauses as a clean-up section. The finally clause will always be executed (whether there is an exception or not).\n",
    "\n",
    "Do check the Python documentation to find other error types."
   ]
  },
  {
   "cell_type": "code",
   "execution_count": null,
   "metadata": {
    "collapsed": true
   },
   "outputs": [],
   "source": [
    "try:\n",
    "    x = float(input(\"Your number: \"))\n",
    "    inverse = 1.0 / x\n",
    "except ValueError:\n",
    "    print(\"You should have given either an int or a float\")\n",
    "except ZeroDivisionError:\n",
    "    print(\"Infinity\")\n",
    "finally:\n",
    "    print(\"There may or may not have been an exception.\")"
   ]
  },
  {
   "cell_type": "markdown",
   "metadata": {},
   "source": [
    "# Modules"
   ]
  },
  {
   "cell_type": "markdown",
   "metadata": {},
   "source": [
    "Modules are VERY important in Python, especially if you´re going to be using it for data science, AI, ML, game programming or anything that will require functions that are not built into th elanguagge itself. \n",
    "\n",
    "The Python community is a fast growing one, and there are modules for practically all purposes. For statistician, analyst or data scientist, the most important ones would be numpy (for scientific computation) and matplotlib (for plotting).\n",
    "\n",
    "You import the modules you are going to use. You can import several on one line (comma separated), and you can import them anywhere in the program, really, but best to import them at the beginning."
   ]
  },
  {
   "cell_type": "code",
   "execution_count": null,
   "metadata": {
    "collapsed": true
   },
   "outputs": [],
   "source": [
    "import math, random\n",
    "\n",
    "# Usage\n",
    "math.pi"
   ]
  },
  {
   "cell_type": "markdown",
   "metadata": {},
   "source": [
    "You can choose to import only specific functions from library module: "
   ]
  },
  {
   "cell_type": "code",
   "execution_count": null,
   "metadata": {
    "collapsed": true
   },
   "outputs": [],
   "source": [
    "from math import sin, pi"
   ]
  },
  {
   "cell_type": "markdown",
   "metadata": {},
   "source": [
    "There are unwritten rules that say that you give the module an acknowledged name when you import it. You will see the following everywhere:"
   ]
  },
  {
   "cell_type": "code",
   "execution_count": null,
   "metadata": {
    "collapsed": true
   },
   "outputs": [],
   "source": [
    "import numpy as np\n",
    "\n",
    "# Usage\n",
    "np.e"
   ]
  },
  {
   "cell_type": "markdown",
   "metadata": {},
   "source": [
    "And you can create a module easily. Simply because any code with the .py extension can be imported and used. But, best to design it properly :-)"
   ]
  },
  {
   "cell_type": "markdown",
   "metadata": {},
   "source": [
    "# File Management"
   ]
  },
  {
   "cell_type": "markdown",
   "metadata": {},
   "source": [
    "The syntax of opening, reading, writing and closing files in Python is quite similar to C, C++ and Java. Just a good deal easier :-)"
   ]
  },
  {
   "cell_type": "code",
   "execution_count": null,
   "metadata": {
    "collapsed": true
   },
   "outputs": [],
   "source": [
    "fwh = open(\"Meetample.txt\", \"w\")\n",
    "fwh.write(\"Den raske teknologiutviklingen gjør at vi trenger\\nen proaktiv politikk som tilpasser og moderniserer\\nutdanningssystemet. Bare slik kan vi utnytte mulighetene\\ni ny teknologi og bruke den for å skape en bedre skole\\nog utdanningsløp for de kommende generasjoner.\")\n",
    "fwh.close()\n",
    "\n",
    "# What did we write?\n",
    "\n",
    "lnr = 1\n",
    "frh = open(\"Meetample.txt\", \"r\") # The \"r\" is default on open\n",
    "for line in frh:\n",
    "    print(str(lnr) + \": \" + line.rstrip())\n",
    "    lnr = lnr + 1\n",
    "frh.close()"
   ]
  },
  {
   "cell_type": "markdown",
   "metadata": {},
   "source": [
    "Note that the file is an object. And rstrip() is a file-object method that strips off white space and new lines from the right side of the \"line\", which now is a string-object.   \n",
    "\n",
    "We can find the posistion we have come to in a file with the tell() method, and position to a location in the file with the seek() method."
   ]
  },
  {
   "cell_type": "code",
   "execution_count": null,
   "metadata": {
    "collapsed": true
   },
   "outputs": [],
   "source": [
    "fr = open(\"Meetample.txt\") # Read by default\n",
    "print(fr.tell()) # Always at zero when first opened\n",
    "\n",
    "fr.seek(4) # Position at 4\n",
    "print(fr.read(5)) # Read the next 5 and print\n",
    "fr.close()"
   ]
  },
  {
   "cell_type": "markdown",
   "metadata": {},
   "source": [
    "You can open a file for both reading and writing at the same time, using \"w+\". If the file doesn't exist, it will be created. You can also use \"r+\". \n",
    "\n",
    "IMPORTANT: If you want to open an existing file for read and write, you better use \"r+\", because this will not delete the content of the file. Can be a lie-saver for a snake-charmer :-)"
   ]
  },
  {
   "cell_type": "markdown",
   "metadata": {},
   "source": [
    "## Pickle your data, or shelve your data"
   ]
  },
  {
   "cell_type": "markdown",
   "metadata": {},
   "source": [
    "EVEN MORE IMPORTANT: You can pickle your data. Put it in a jar and eat it (use it) later. Yes, that is a silly expression for a very handy facility for saving your file.\n",
    "\n",
    "You use the dump() method in the pickle module. Full syntax:\n",
    "    pickle.dump(obj, file[,protocol, *, fix_imports=True])\n",
    "\n",
    "Where: \n",
    "\n",
    "Protocol v 0 is the original (before Python3) human-readable (ascii) protocol and is backwards compatible with previous versions of Python.\n",
    "\n",
    "Protocol v 1 is the old binary format which is also compatible with previous versions of Python.\n",
    "\n",
    "Protocol v 2 was introduced in Python 2.3. It provides much more efficient pickling of new-style classes.\n",
    "\n",
    "Protocol v 3 was introduced with Python 3.0 and is the default in Python 3. It has explicit support for bytes and cannot be unpickled by Python 2.x pickle modules. It's the recommended protocol of Python 3.x.\n",
    "\n",
    "What this says is that you drop the protocol if you are to use the recommended protocol, which is default anyway."
   ]
  },
  {
   "cell_type": "code",
   "execution_count": null,
   "metadata": {
    "collapsed": true
   },
   "outputs": [],
   "source": [
    "import pickle\n",
    "\n",
    "cities = [\"Oslo\", \"Bergen\", \"Trondheim\", \"Stavanger\", \"Tromsø\"]\n",
    "fh = open(\"data.pkl\", \"bw\")\n",
    "pickle.dump(cities, fh)\n",
    "fh.close()\n",
    "\n",
    "# Many years later, on a far away planet ...\n",
    "\n",
    "f = open(\"data.pkl\", \"rb\")\n",
    "byer = pickle.load(f)\n",
    "print(byer)\n",
    "f.close()"
   ]
  },
  {
   "cell_type": "markdown",
   "metadata": {},
   "source": [
    "Pickling reads and writes the information as a whole. Shelving is used when the file is to be indexed, saved and accessed in parts. It persists data, which means that the data can be read and used by other programs - but opened as a shelved file."
   ]
  },
  {
   "cell_type": "code",
   "execution_count": null,
   "metadata": {
    "collapsed": true
   },
   "outputs": [],
   "source": [
    "import shelve\n",
    "\n",
    "tlfBook = shelve.open(\"MyPhoneBook\")\n",
    "\n",
    "tlfBook[\"Dag\"] = {\"first\":\"Dag\", \"last\":\"Fjellstad\", \"phone\":\"7654\"}\n",
    "tlfBook[\"Bjarte\"] = {\"first\":\"Bjarte\", \"last\":\"Drivenes\", \"phone\":\"2468\"}\n",
    "tlfBook[\"Luke\"] = {\"first\":\"Luke\", \"last\":\"Skywalker\", \"phone\":\"0099\"}\n",
    "\n",
    "print(tlfBook[\"Luke\"][\"phone\"])\n",
    "    \n",
    "tlfBook.close()"
   ]
  },
  {
   "cell_type": "markdown",
   "metadata": {},
   "source": [
    "# What we´re dropping here :-("
   ]
  },
  {
   "cell_type": "markdown",
   "metadata": {},
   "source": [
    "You should be aware that we are dropping quite a number of fun elements of Python. A two-hour crash course cannot give you all the details. But you should know what else you should be checking out for reaching a more advaned, more professional level in Python programming.\n",
    "\n",
    "This is what we have had to drop:\n",
    "\n",
    "Packages\n",
    "Regular Expressions\n",
    "A good look at formatted I/O\n",
    "An in dept discussion of local and global variables, and namespaces\n",
    "Decorators & Memoization\n",
    "Lambda, filter, map, reduce (as mentioned earlier)\n",
    "A much better understanding of iterators (though we have seen them implicitly)\n",
    "Testing and unit testing, doctest and unittest frameworks\n",
    "A better understanding og the use of __name__ and __main__ (we see some such constructs soon)"
   ]
  },
  {
   "cell_type": "markdown",
   "metadata": {},
   "source": [
    "# OOP (not \"oops\") - Classes and Objects"
   ]
  },
  {
   "cell_type": "markdown",
   "metadata": {},
   "source": [
    "We now have all of the necessary basiscs. It will be easy to understand the structure of a class in Python, how objects are created and initialized, and see what getter and setter methods look like. \n",
    "\n",
    "Let´s just inspect a class. Let´s create a couple of robot-objects of a Robot class."
   ]
  },
  {
   "cell_type": "code",
   "execution_count": null,
   "metadata": {
    "collapsed": true
   },
   "outputs": [],
   "source": [
    "class Robot:\n",
    " \n",
    "    def __init__(self, \n",
    "                 name=None,\n",
    "                 build_year=None):\n",
    "        self.name = name   \n",
    "        self.build_year = build_year\n",
    "        \n",
    "    def say_hi(self):\n",
    "        if self.name:\n",
    "            print(\"Hi, I am \" + self.name)\n",
    "        else:\n",
    "            print(\"Hi, I am a robot without a name\")\n",
    "        if self.build_year:\n",
    "            print(\"I was built in \" + str(self.build_year))\n",
    "        else:\n",
    "            print(\"Alas, nobody knows when I was created! Must ask R2-D2.\")\n",
    "            \n",
    "    def set_name(self, name):\n",
    "        self.name = name\n",
    "        \n",
    "    def get_name(self):\n",
    "        return self.name    \n",
    "\n",
    "    def set_build_year(self, by):\n",
    "        self.build_year = by\n",
    "        \n",
    "    def get_build_year(self):\n",
    "        return self.build_year    \n",
    "    \n",
    "\n",
    "x = Robot(\"R2-D2\", 1977)\n",
    "y = Robot()\n",
    "y.set_name(\"C-3PO\")\n",
    "x.say_hi()\n",
    "y.say_hi()"
   ]
  },
  {
   "cell_type": "markdown",
   "metadata": {},
   "source": [
    "Python, like all OO languages with some self-respect, in addition to instance attributes and instance methods, has static methods, class methods and class attributes."
   ]
  },
  {
   "cell_type": "code",
   "execution_count": null,
   "metadata": {
    "collapsed": true
   },
   "outputs": [],
   "source": [
    "class Robot:\n",
    "    __counter = 0\n",
    "    \n",
    "    def __init__(self):\n",
    "        type(self).__counter += 1\n",
    "        \n",
    "    @staticmethod\n",
    "    def RobotInstances():\n",
    "        return Robot.__counter\n",
    "        \n",
    "\n",
    "if __name__ == \"__main__\":\n",
    "    print(Robot.RobotInstances())\n",
    "    x = Robot()\n",
    "    print(x.RobotInstances())\n",
    "    y = Robot()\n",
    "    print(x.RobotInstances())\n",
    "    print(Robot.RobotInstances())"
   ]
  },
  {
   "cell_type": "markdown",
   "metadata": {},
   "source": [
    "What?!? What does this \"if __name__ == \"__main__\" mean? From Stack flow (easiest explanation I found):\n",
    "\n",
    "When your script is run by passing it as a command to the Python interpreter, like in\n",
    "\n",
    "$ python myscript.py\n",
    "\n",
    "all of the code that is at indentation level 0 gets executed. Functions and classes that are defined are, well, defined, but none of their code gets run. Unlike other languages, there's no main() function that gets run automatically - the main() function is implicitly all the code at the top level.\n",
    "\n",
    "In this case, the top-level code is an if block, and __name__ is a built-in variable which evaluates to the name of the current module. However, if a module is being run directly (as in myscript.py above), then __name__ instead is set to the string \"__main__\". Thus, you can test whether your script is being run directly or being imported by something else by testing\n",
    "\n",
    "if __name__ == \"__main__\":\n",
    "    ...\n",
    "\n",
    "If your script is being imported into another module, its various function and class definitions will be imported and its top-level code will be executed, but the code in the then-body of the if clause above won't get run as the condition is not met :-) \n",
    "\n",
    "OK. That is understood.\n",
    "\n",
    "Here´s a class method (as compared to a static method):"
   ]
  },
  {
   "cell_type": "code",
   "execution_count": null,
   "metadata": {
    "collapsed": true
   },
   "outputs": [],
   "source": [
    "class Robot:\n",
    "    __counter = 0\n",
    "    \n",
    "    def __init__(self):\n",
    "        type(self).__counter += 1\n",
    "        \n",
    "    @classmethod\n",
    "    def RobotInstances(cls):\n",
    "        return cls, Robot.__counter\n",
    "        \n",
    "\n",
    "if __name__ == \"__main__\":\n",
    "    print(Robot.RobotInstances())\n",
    "    x = Robot()\n",
    "    print(x.RobotInstances())\n",
    "    y = Robot()\n",
    "    print(x.RobotInstances())\n",
    "    print(Robot.RobotInstances())"
   ]
  },
  {
   "cell_type": "markdown",
   "metadata": {},
   "source": [
    "Rhere are other elements in Python´s rich OO implementation like @property, data encapsulation (you may be struggling to accept it) etc., that I will let you inspect yourselves. \n",
    "\n",
    "Our last example is about the Python inheritance mechanism. Python supports inheritance - AND MULTIPLE INHERITANCE! \n",
    "\n",
    "How many fainted?\n",
    "\n",
    "OK. Simple inheritence first. Syntax:\n",
    "\n",
    "    class DerivedClassName(BaseClassName):\n",
    "        pass # Or code\n",
    "\n",
    "Example:"
   ]
  },
  {
   "cell_type": "code",
   "execution_count": null,
   "metadata": {
    "collapsed": true
   },
   "outputs": [],
   "source": [
    "class Person:\n",
    "\n",
    "    def __init__(self, first, last):\n",
    "        self.firstname = first\n",
    "        self.lastname = last\n",
    "\n",
    "    def Name(self):\n",
    "        return self.firstname + \" \" + self.lastname\n",
    "\n",
    "class Employee(Person):\n",
    "\n",
    "    def __init__(self, first, last, staffnum):\n",
    "        Person.__init__(self, first, last)\n",
    "        self.staffnumber = staffnum\n",
    "\n",
    "    def GetEmployee(self):\n",
    "        return self.Name() + \", \" +  self.staffnumber\n",
    "\n",
    "x = Person(\"Marge\", \"Simpson\")\n",
    "y = Employee(\"Homer\", \"Simpson\", \"1007\")\n",
    "\n",
    "print(x.Name())\n",
    "print(y.GetEmployee())"
   ]
  },
  {
   "cell_type": "markdown",
   "metadata": {},
   "source": [
    "And then the fear of all Java-coders: Multiple inheritance. The fear is unnecessary in the case of Python, because Python behaves better than C++ (which is the language that caused the fear to spread - justly).\n",
    "\n",
    "The syntax is as expected:\n",
    "\n",
    "    class SubclassName(BaseClass1, BaseClass2, BaseClass3, ...):\n",
    "        pass # Or code\n",
    "\n",
    "But our time is up!\n",
    "\n",
    "Try the tutorials recommended in Anaconda, but be aware that you have more than a basic understanding of Python now. Your best chance is looking up things we keft out o things you need in an implementation - directly in the original documentation or in the many code examples on the Internet (Kaggle, GitHub, some ideas from StackOverflow etc.). "
   ]
  },
  {
   "cell_type": "markdown",
   "metadata": {},
   "source": [
    "# Homework - NLTK (Natural Language Toolkit)"
   ]
  },
  {
   "cell_type": "markdown",
   "metadata": {},
   "source": [
    "A medium complex example in a very fashionable area (a subset of AI/ML) called natural language processing, with functionality like \"sentiment analysis\" that people talk a good deal about is a good next step for you. \n",
    "\n",
    "The original by my namesake Nagy is here:\n",
    "\n",
    "https://www.kaggle.com/ngyptr/python-nltk-sentiment-analysis?scriptVersionId=904504\n",
    "\n",
    "Let us take a brief look and set you off.\n",
    "\n",
    "NOTE! NOTE! NOTE!\n",
    "Either fork in Kaggle and create your own, or copy the code. \n",
    "\n",
    "ENJOY!"
   ]
  }
 ],
 "metadata": {
  "kernelspec": {
   "display_name": "Python 3",
   "language": "python",
   "name": "python3"
  },
  "language_info": {
   "codemirror_mode": {
    "name": "ipython",
    "version": 3
   },
   "file_extension": ".py",
   "mimetype": "text/x-python",
   "name": "python",
   "nbconvert_exporter": "python",
   "pygments_lexer": "ipython3",
   "version": "3.6.3"
  }
 },
 "nbformat": 4,
 "nbformat_minor": 2
}
